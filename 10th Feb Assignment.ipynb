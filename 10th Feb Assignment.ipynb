{
 "cells": [
  {
   "cell_type": "markdown",
   "id": "3e3bdb36",
   "metadata": {},
   "source": [
    "### Q1. Which function is used to open a file? What are the different modes of opening a file? Explain each mode of file opening."
   ]
  },
  {
   "cell_type": "markdown",
   "id": "6b2e3d07",
   "metadata": {},
   "source": [
    "#### Ans:\n",
    "The open() function is used to open a file. It returns a file object, which is used for reading, writing, or appending data to the file.\n",
    "\n",
    "'r'       :(read mode)(default), It allows reading data from the file but does not allow writing or modifying it.\n",
    "\n",
    "'w'       :(write mode) This mode allows writing data to the file. If the file already exists, it will be overwritten. If the             file does not exist, it will be created.\n",
    "\n",
    "'x'       :(exclusive creation mode) This mode allows creating a new file but fails if the file already exists.\n",
    "\n",
    "'a'       :(append mode) This mode allows writing data to the end of the file without overwriting the existing data. If the file           does not exist, it will be created.\n",
    "\n",
    "'b'       :(binary mode) This mode is used for opening binary files. It must be used in conjunction with one of the above modes,           such as \"rb\" for reading a binary file or \"wb\" for writing a binary file.\n",
    "\n",
    "'t'       :(text mode) This mode is used for opening text files. It is the default mode, and can be used in conjunction with one           of the above modes, such as \"rt\" for reading a text file or \"wt\" for writing a text file.\n",
    "\n",
    "'+'       :(update mode): This mode allows both reading and writing data to the file. It must be used in conjunction with one of           the above modes, such as \"r+\" for reading and updating a file, or \"w+\" for writing and updating a file.\n",
    "\n",
    "'U'       universal newline mode (deprecated)"
   ]
  },
  {
   "cell_type": "markdown",
   "id": "71fddb4e",
   "metadata": {},
   "source": [
    "### Q2. Why close() function is used? Why is it important to close a file?"
   ]
  },
  {
   "cell_type": "markdown",
   "id": "c2a3544a",
   "metadata": {},
   "source": [
    "#### Ans:\n",
    "The close() function is used to close a file that was previously opened using the open() function. \n",
    "\n",
    "It is important to close a file after finishing working with it because it:\n",
    "\n",
    "Saves changes to the file: Some file modes, such as \"w\" and \"a\", allow writing to the file. If the file is not closed properly after writing, the changes made to the file may not be saved.\n",
    "\n",
    "Releases system resources: When a file is opened, the operating system allocates resources such as file descriptors and memory to handle the file operations. If the file is not closed properly, these resources may not be released until the program terminates, which can lead to resource leaks and system instability.\n",
    "\n",
    "Prevents data corruption: If a program terminates abruptly before closing a file, any data that was buffered but not written to the file may be lost or corrupted.\n"
   ]
  },
  {
   "cell_type": "markdown",
   "id": "7f31a021",
   "metadata": {},
   "source": [
    "### Q3. Write a python program to create a text file. Write ‘I want to become a Data Scientist’ in that file. Then close the file. Open this file and read the content of the file.\n"
   ]
  },
  {
   "cell_type": "code",
   "execution_count": 1,
   "id": "6dc03215",
   "metadata": {},
   "outputs": [],
   "source": [
    "file = open(\"data_scientist.txt\", \"w\")\n",
    "file.write(\"I want to become a Data Scientist\\n\")\n",
    "file.close()"
   ]
  },
  {
   "cell_type": "code",
   "execution_count": 2,
   "id": "b69d8141",
   "metadata": {},
   "outputs": [
    {
     "name": "stdout",
     "output_type": "stream",
     "text": [
      "I want to become a Data Scientist\n",
      "\n"
     ]
    }
   ],
   "source": [
    "file = open(\"data_scientist.txt\", \"r\")\n",
    "content = file.read()\n",
    "file.close()\n",
    "print(content)"
   ]
  },
  {
   "cell_type": "markdown",
   "id": "adb37cb2",
   "metadata": {},
   "source": [
    "### Q4. Explain the following with python code: read(), readline() and readlines()."
   ]
  },
  {
   "cell_type": "markdown",
   "id": "9d18a99f",
   "metadata": {},
   "source": [
    "#### Ans:\n",
    "The read() method reads the entire contents of a file as a single string. If you don't specify a size argument, it reads the entire file at once."
   ]
  },
  {
   "cell_type": "code",
   "execution_count": 3,
   "id": "67a68bd5",
   "metadata": {},
   "outputs": [
    {
     "name": "stdout",
     "output_type": "stream",
     "text": [
      "I want to become a Data Scientist\n",
      "\n"
     ]
    }
   ],
   "source": [
    "file = open(\"data_scientist.txt\", \"r\")\n",
    "content = file.read()\n",
    "file.close()\n",
    "print(content)"
   ]
  },
  {
   "cell_type": "markdown",
   "id": "c164e8fe",
   "metadata": {},
   "source": [
    "*****\n",
    "The readline() is a built-in function that is used to read a single line of text from a file object. The function reads characters from the current position of the file pointer up to and including the first newline character or until the end of the line is reached."
   ]
  },
  {
   "cell_type": "code",
   "execution_count": 4,
   "id": "3d63e996",
   "metadata": {},
   "outputs": [
    {
     "name": "stdout",
     "output_type": "stream",
     "text": [
      "I want to become a Data Scientist\n",
      "Assignments and projects are the way forward\n"
     ]
    }
   ],
   "source": [
    "file = open(\"data_scientist.txt\", \"a\")\n",
    "file.write(\"Assignments and projects are the way forward\")\n",
    "file.close()\n",
    "\n",
    "file = open(\"data_scientist.txt\", \"r\")\n",
    "content = file.read()\n",
    "file.close()\n",
    "print(content)"
   ]
  },
  {
   "cell_type": "code",
   "execution_count": 5,
   "id": "2038d9f0",
   "metadata": {},
   "outputs": [
    {
     "name": "stdout",
     "output_type": "stream",
     "text": [
      "I want to become a Data Scientist\n",
      "\n"
     ]
    }
   ],
   "source": [
    "file_object = open(\"data_scientist.txt\", \"r\")\n",
    "first_line = file_object.readline()\n",
    "print(first_line)\n",
    "file_object.close()"
   ]
  },
  {
   "cell_type": "markdown",
   "id": "e1d11c1a",
   "metadata": {},
   "source": [
    "*****\n",
    "The readlines() is a built-in function that is used to read all the lines of a file object and return them as a list of strings. Each string in the list corresponds to a line of the file, with the newline character at the end of each line removed."
   ]
  },
  {
   "cell_type": "code",
   "execution_count": 6,
   "id": "4412b612",
   "metadata": {},
   "outputs": [],
   "source": [
    "file = open(\"data_scientist.txt\", \"a\")\n",
    "file.write(\"few more lines \\n ***** \\n ****\")\n",
    "file.close()"
   ]
  },
  {
   "cell_type": "code",
   "execution_count": 7,
   "id": "5190e9a5",
   "metadata": {},
   "outputs": [
    {
     "name": "stdout",
     "output_type": "stream",
     "text": [
      "I want to become a Data Scientist\n",
      "Assignments and projects are the way forwardfew more lines \n",
      " ***** \n",
      " ****\n"
     ]
    }
   ],
   "source": [
    "file = open(\"data_scientist.txt\", \"r\")\n",
    "content = file.read()\n",
    "file.close()\n",
    "print(content)"
   ]
  },
  {
   "cell_type": "code",
   "execution_count": 8,
   "id": "9fe920f1",
   "metadata": {},
   "outputs": [
    {
     "name": "stdout",
     "output_type": "stream",
     "text": [
      "['I want to become a Data Scientist\\n', 'Assignments and projects are the way forwardfew more lines \\n', ' ***** \\n', ' ****']\n"
     ]
    }
   ],
   "source": [
    "f = open('data_scientist.txt','r')\n",
    "lines = f.readlines()\n",
    "f.close()\n",
    "print(lines)"
   ]
  },
  {
   "cell_type": "markdown",
   "id": "34a4f8e0",
   "metadata": {},
   "source": [
    "### Q5. Explain why with statement is used with open(). What is the advantage of using with statement and open() together?"
   ]
  },
  {
   "cell_type": "markdown",
   "id": "96f64a65",
   "metadata": {},
   "source": [
    "The 'with' statement works with the open() function to open a file.\n",
    "\n",
    "Advantage: Unlike open() where we have to close the file with the close() method, the with statement closes the file for us without telling it to.\n",
    "This is because the with statement calls 2 built-in methods behind the scene – __enter()__ and __exit()__.\n",
    "\n",
    "The __exit()__ method closes the file when the operation specified is done."
   ]
  },
  {
   "cell_type": "code",
   "execution_count": 9,
   "id": "16d69271",
   "metadata": {},
   "outputs": [
    {
     "name": "stdout",
     "output_type": "stream",
     "text": [
      "I want to become a Data Scientist\n",
      "Assignments and projects are the way forwardfew more lines \n",
      " ***** \n",
      " ****\n"
     ]
    }
   ],
   "source": [
    "# Normal syntax\n",
    "f = open(\"data_scientist.txt\", \"r\")\n",
    "print(f.read())\n",
    "f.close()"
   ]
  },
  {
   "cell_type": "code",
   "execution_count": 10,
   "id": "ea643b25",
   "metadata": {},
   "outputs": [
    {
     "name": "stdout",
     "output_type": "stream",
     "text": [
      "I want to become a Data Scientist\n",
      "Assignments and projects are the way forwardfew more lines \n",
      " ***** \n",
      " ****\n"
     ]
    }
   ],
   "source": [
    "# using with statement\n",
    "with open(\"data_scientist.txt\",'r') as f:\n",
    "    print(f.read())"
   ]
  },
  {
   "cell_type": "markdown",
   "id": "552c93a9",
   "metadata": {},
   "source": [
    "### Q6. Explain the write() and writelines() functions. Give a suitable example."
   ]
  },
  {
   "cell_type": "markdown",
   "id": "d4619dcf",
   "metadata": {},
   "source": [
    "The write() method writes a specified text to the file.\n",
    "Where the specified text will be inserted depends on the file mode and stream position.\n",
    "\n",
    "\"a\":  The text will be inserted at the current file stream position, default at the end of the file.\n",
    "\n",
    "\"w\": The file will be emptied before the text will be inserted at the current file stream position, default 0.\n",
    "\n",
    "write() takes a single argument, which is the text or binary data to be written to the file."
   ]
  },
  {
   "cell_type": "code",
   "execution_count": 11,
   "id": "ae281948",
   "metadata": {},
   "outputs": [
    {
     "name": "stdout",
     "output_type": "stream",
     "text": [
      "Let's Start\n"
     ]
    }
   ],
   "source": [
    "f = open(\"demo.txt\", \"w\")\n",
    "f.write(\"Let's Start\")\n",
    "f.close()\n",
    "\n",
    "f = open(\"demo.txt\", \"r\")\n",
    "print(f.read())\n",
    "f.close()"
   ]
  },
  {
   "cell_type": "markdown",
   "id": "82fc0de1",
   "metadata": {},
   "source": [
    "***\n",
    "The writelines() function, on the other hand, is used to write a sequence of strings or bytes objects to a file. It takes a single argument, which is a sequence (e.g., list or tuple) of strings or bytes objects to be written to the file."
   ]
  },
  {
   "cell_type": "code",
   "execution_count": 12,
   "id": "9c925199",
   "metadata": {},
   "outputs": [
    {
     "name": "stdout",
     "output_type": "stream",
     "text": [
      "First \n",
      "Next \n",
      "FirstNextFirst\n",
      "Next\n",
      "First\n",
      "Next\n",
      "\n"
     ]
    }
   ],
   "source": [
    "f = open(\"demo2.txt\", \"a\")\n",
    "f.writelines([\"First\\n\", \"Next\\n\"])\n",
    "f.close()\n",
    "\n",
    "f = open(\"demo2.txt\", \"r\")\n",
    "print(f.read()) "
   ]
  }
 ],
 "metadata": {
  "kernelspec": {
   "display_name": "Python 3 (ipykernel)",
   "language": "python",
   "name": "python3"
  },
  "language_info": {
   "codemirror_mode": {
    "name": "ipython",
    "version": 3
   },
   "file_extension": ".py",
   "mimetype": "text/x-python",
   "name": "python",
   "nbconvert_exporter": "python",
   "pygments_lexer": "ipython3",
   "version": "3.9.13"
  }
 },
 "nbformat": 4,
 "nbformat_minor": 5
}
